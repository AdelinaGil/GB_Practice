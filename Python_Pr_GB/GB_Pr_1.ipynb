{
 "cells": [
  {
   "cell_type": "markdown",
   "id": "ad6b39bb",
   "metadata": {},
   "source": [
    "## Задача 1"
   ]
  },
  {
   "cell_type": "code",
   "execution_count": null,
   "id": "36cb5877",
   "metadata": {},
   "outputs": [],
   "source": [
    "dict1 = {'One': 1, 'Two': 2, 'Three': 3}\n",
    "dict2 = {'Four': 4, 'Five': 5, 'Six': 6}"
   ]
  },
  {
   "cell_type": "code",
   "execution_count": 3,
   "id": "57883bfd",
   "metadata": {},
   "outputs": [],
   "source": [
    "dict1.update(dict2)"
   ]
  },
  {
   "cell_type": "code",
   "execution_count": 4,
   "id": "5da8087f",
   "metadata": {},
   "outputs": [
    {
     "data": {
      "text/plain": [
       "{'One': 1, 'Two': 2, 'Three': 3, 'Four': 4, 'Five': 5, 'Six': 6}"
      ]
     },
     "execution_count": 4,
     "metadata": {},
     "output_type": "execute_result"
    }
   ],
   "source": [
    "dict1"
   ]
  },
  {
   "cell_type": "code",
   "execution_count": 5,
   "id": "0240482c",
   "metadata": {},
   "outputs": [
    {
     "data": {
      "text/plain": [
       "{'One': 1, 'Two': 2, 'Three': 3, 'Four': 4, 'Five': 5, 'Six': 6}"
      ]
     },
     "execution_count": 5,
     "metadata": {},
     "output_type": "execute_result"
    }
   ],
   "source": [
    "dict1 | dict2"
   ]
  },
  {
   "cell_type": "code",
   "execution_count": 6,
   "id": "1176c6f6",
   "metadata": {},
   "outputs": [],
   "source": [
    "def unite_dicts(dict1: dict, dict2: dict) -> dict:\n",
    "    dict1.update(dict2)\n",
    "    return dict1"
   ]
  },
  {
   "cell_type": "code",
   "execution_count": 7,
   "id": "0af0293d",
   "metadata": {},
   "outputs": [
    {
     "data": {
      "text/plain": [
       "{'One': 1, 'Two': 2, 'Three': 3, 'Four': 4, 'Five': 5, 'Six': 6}"
      ]
     },
     "execution_count": 7,
     "metadata": {},
     "output_type": "execute_result"
    }
   ],
   "source": [
    "unite_dicts(dict1, dict2)"
   ]
  },
  {
   "cell_type": "markdown",
   "id": "1b202465",
   "metadata": {},
   "source": [
    "## Задача 2"
   ]
  },
  {
   "cell_type": "code",
   "execution_count": 12,
   "id": "8aafc131",
   "metadata": {},
   "outputs": [],
   "source": [
    "keys  = ['One', 'Two', 'Three']\n",
    "values = [1, 2, 3]"
   ]
  },
  {
   "cell_type": "code",
   "execution_count": 15,
   "id": "cdeea0db",
   "metadata": {},
   "outputs": [],
   "source": [
    "dictionary = {}\n",
    "def new_dictionary(keys: list, values: list) -> dict:\n",
    "    for i in range (len(keys)):\n",
    "        dictionary[keys[i]] = values[i]\n",
    "    return dictionary"
   ]
  },
  {
   "cell_type": "code",
   "execution_count": 16,
   "id": "5ea0d403",
   "metadata": {},
   "outputs": [
    {
     "data": {
      "text/plain": [
       "{'One': 1, 'Two': 2, 'Three': 3}"
      ]
     },
     "execution_count": 16,
     "metadata": {},
     "output_type": "execute_result"
    }
   ],
   "source": [
    "new_dictionary(keys, values)"
   ]
  },
  {
   "cell_type": "code",
   "execution_count": 17,
   "id": "c99ac272",
   "metadata": {},
   "outputs": [
    {
     "data": {
      "text/plain": [
       "{'One': 1, 'Two': 2, 'Three': 3}"
      ]
     },
     "execution_count": 17,
     "metadata": {},
     "output_type": "execute_result"
    }
   ],
   "source": [
    "{keys[i]: values[i] for i in range (len(keys))}"
   ]
  },
  {
   "cell_type": "markdown",
   "id": "ed553469",
   "metadata": {},
   "source": [
    "## Задача 3"
   ]
  },
  {
   "cell_type": "code",
   "execution_count": 18,
   "id": "e89f802e",
   "metadata": {},
   "outputs": [],
   "source": [
    "client_dict = {\n",
    "    \"name\": \"John\",\n",
    "    \"age\": 25,\n",
    "    \"salary\": 500000,\n",
    "    \"city\": \"Moscow\"\n",
    "}"
   ]
  },
  {
   "cell_type": "code",
   "execution_count": 22,
   "id": "2605c0ff",
   "metadata": {},
   "outputs": [],
   "source": [
    "cl_par = [\"name\", \"age\"]"
   ]
  },
  {
   "cell_type": "code",
   "execution_count": 42,
   "id": "605b1ffb",
   "metadata": {},
   "outputs": [],
   "source": [
    "def get_data(client_dict, cl_par = [\"name\", \"age\"]):\n",
    "    par = {}\n",
    "    for key in cl_par:\n",
    "        par[key] = client_dict[key]\n",
    "    return par"
   ]
  },
  {
   "cell_type": "code",
   "execution_count": 43,
   "id": "22e52265",
   "metadata": {},
   "outputs": [
    {
     "data": {
      "text/plain": [
       "{'name': 'John', 'age': 25}"
      ]
     },
     "execution_count": 43,
     "metadata": {},
     "output_type": "execute_result"
    }
   ],
   "source": [
    "get_data(client_dict)"
   ]
  },
  {
   "cell_type": "code",
   "execution_count": 44,
   "id": "875f2073",
   "metadata": {},
   "outputs": [
    {
     "data": {
      "text/plain": [
       "{'salary': 500000}"
      ]
     },
     "execution_count": 44,
     "metadata": {},
     "output_type": "execute_result"
    }
   ],
   "source": [
    "get_data(client_dict, cl_par = [\"salary\"])"
   ]
  },
  {
   "cell_type": "code",
   "execution_count": 63,
   "id": "c7db00e0",
   "metadata": {},
   "outputs": [],
   "source": [
    " def get_data2 (client_dict, cl_par = [\"name\", \"age\"]):\n",
    "    return {key : client_dict[key] for key in cl_par}"
   ]
  },
  {
   "cell_type": "code",
   "execution_count": 64,
   "id": "c765df4d",
   "metadata": {},
   "outputs": [
    {
     "data": {
      "text/plain": [
       "{'name': 'John', 'age': 25}"
      ]
     },
     "execution_count": 64,
     "metadata": {},
     "output_type": "execute_result"
    }
   ],
   "source": [
    "get_data(client_dict)"
   ]
  },
  {
   "cell_type": "markdown",
   "id": "973ecbe2",
   "metadata": {},
   "source": [
    "## Задание 4"
   ]
  },
  {
   "cell_type": "code",
   "execution_count": 54,
   "id": "3f2e9381",
   "metadata": {},
   "outputs": [],
   "source": [
    "import random"
   ]
  },
  {
   "cell_type": "code",
   "execution_count": 62,
   "id": "c8a1bac0",
   "metadata": {},
   "outputs": [
    {
     "data": {
      "text/plain": [
       "[73, 4, 54, 61, 73]"
      ]
     },
     "execution_count": 62,
     "metadata": {},
     "output_type": "execute_result"
    }
   ],
   "source": [
    "random.seed(10)\n",
    "lst = [random.randint(0,100) for i in range(5)]\n",
    "lst"
   ]
  },
  {
   "cell_type": "code",
   "execution_count": null,
   "id": "92862b14",
   "metadata": {},
   "outputs": [],
   "source": []
  },
  {
   "cell_type": "code",
   "execution_count": null,
   "id": "f6b5ec37",
   "metadata": {},
   "outputs": [],
   "source": []
  }
 ],
 "metadata": {
  "kernelspec": {
   "display_name": "Python 3 (ipykernel)",
   "language": "python",
   "name": "python3"
  },
  "language_info": {
   "codemirror_mode": {
    "name": "ipython",
    "version": 3
   },
   "file_extension": ".py",
   "mimetype": "text/x-python",
   "name": "python",
   "nbconvert_exporter": "python",
   "pygments_lexer": "ipython3",
   "version": "3.10.2"
  }
 },
 "nbformat": 4,
 "nbformat_minor": 5
}
