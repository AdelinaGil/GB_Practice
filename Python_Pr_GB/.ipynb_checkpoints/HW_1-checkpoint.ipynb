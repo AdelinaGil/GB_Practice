{
 "cells": [
  {
   "cell_type": "markdown",
   "id": "f6e06946",
   "metadata": {},
   "source": [
    "## Задание 1"
   ]
  },
  {
   "cell_type": "markdown",
   "id": "4885b171",
   "metadata": {},
   "source": [
    "На складе лежат разные фрукты в разном количестве.\n",
    "Нужно написать функцию, которая на вход принимает любое количество названий фруктов и их количество, а возвращает общее количество фруктов на складе"
   ]
  },
  {
   "cell_type": "code",
   "execution_count": 45,
   "id": "3dc80e93",
   "metadata": {},
   "outputs": [],
   "source": [
    "def sum_fruits(**kwargs):\n",
    "    summa = 0\n",
    "    for i  in kwargs.values():\n",
    "        summa = summa + int(i)\n",
    "    print(\"На складе: %d фруктов\" %summa)    "
   ]
  },
  {
   "cell_type": "code",
   "execution_count": 46,
   "id": "87089187",
   "metadata": {},
   "outputs": [
    {
     "name": "stdout",
     "output_type": "stream",
     "text": [
      "На складе: 25 фруктов\n"
     ]
    }
   ],
   "source": [
    "fruits = {'бананы': 5,\n",
    "          'яблоки': 10,\n",
    "          'груши': 10}\n",
    "sum_fruits(**fruits)"
   ]
  },
  {
   "cell_type": "code",
   "execution_count": 48,
   "id": "23eebcd3",
   "metadata": {},
   "outputs": [
    {
     "name": "stdout",
     "output_type": "stream",
     "text": [
      "На складе: 35 фруктов\n"
     ]
    }
   ],
   "source": [
    "sum_fruits(банан = 25, апельсин = 10)"
   ]
  },
  {
   "cell_type": "code",
   "execution_count": 1,
   "id": "4cd869d6",
   "metadata": {},
   "outputs": [
    {
     "name": "stdout",
     "output_type": "stream",
     "text": [
      "Requirement already satisfied: pandas in c:\\users\\79257\\pycharmprojects\\pythonproject\\gb_practice\\lib\\site-packages (1.5.3)Note: you may need to restart the kernel to use updated packages.\n",
      "\n",
      "Requirement already satisfied: numpy>=1.21.0 in c:\\users\\79257\\pycharmprojects\\pythonproject\\gb_practice\\lib\\site-packages (from pandas) (1.24.1)\n",
      "Requirement already satisfied: pytz>=2020.1 in c:\\users\\79257\\pycharmprojects\\pythonproject\\gb_practice\\lib\\site-packages (from pandas) (2022.7.1)\n",
      "Requirement already satisfied: python-dateutil>=2.8.1 in c:\\users\\79257\\pycharmprojects\\pythonproject\\gb_practice\\lib\\site-packages (from pandas) (2.8.2)\n",
      "Requirement already satisfied: six>=1.5 in c:\\users\\79257\\pycharmprojects\\pythonproject\\gb_practice\\lib\\site-packages (from python-dateutil>=2.8.1->pandas) (1.16.0)\n"
     ]
    }
   ],
   "source": [
    "pip install pandas"
   ]
  },
  {
   "cell_type": "code",
   "execution_count": null,
   "id": "e291782f",
   "metadata": {},
   "outputs": [],
   "source": []
  }
 ],
 "metadata": {
  "kernelspec": {
   "display_name": "Python 3 (ipykernel)",
   "language": "python",
   "name": "python3"
  },
  "language_info": {
   "codemirror_mode": {
    "name": "ipython",
    "version": 3
   },
   "file_extension": ".py",
   "mimetype": "text/x-python",
   "name": "python",
   "nbconvert_exporter": "python",
   "pygments_lexer": "ipython3",
   "version": "3.10.2"
  }
 },
 "nbformat": 4,
 "nbformat_minor": 5
}
